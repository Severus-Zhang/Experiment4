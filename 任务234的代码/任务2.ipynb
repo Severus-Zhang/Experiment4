{
 "cells": [
  {
   "cell_type": "code",
   "execution_count": 1,
   "id": "f1b3adff",
   "metadata": {},
   "outputs": [],
   "source": [
    "import os\n",
    "import pyspark\n",
    "from pyspark import SparkContext, SparkConf\n",
    "from pyspark.sql import SQLContext"
   ]
  },
  {
   "cell_type": "code",
   "execution_count": 2,
   "id": "13c0b393",
   "metadata": {},
   "outputs": [
    {
     "name": "stderr",
     "output_type": "stream",
     "text": [
      "C:\\Users\\DELL\\anaconda3\\envs\\tensorflow\\lib\\site-packages\\pyspark\\sql\\context.py:77: FutureWarning: Deprecated in 3.0.0. Use SparkSession.builder.getOrCreate() instead.\n",
      "  warnings.warn(\n"
     ]
    }
   ],
   "source": [
    "sc = SparkContext()\n",
    "sqlContext = SQLContext(sc)"
   ]
  },
  {
   "cell_type": "code",
   "execution_count": 6,
   "id": "1c49de0f",
   "metadata": {},
   "outputs": [],
   "source": [
    "# 读取数据\n",
    "df = sqlContext.read.format('com.databricks.spark.csv').options(header='true', inferschema='true').load(\"train_data .csv\")"
   ]
  },
  {
   "cell_type": "code",
   "execution_count": 22,
   "id": "62a768d0",
   "metadata": {},
   "outputs": [
    {
     "name": "stdout",
     "output_type": "stream",
     "text": [
      "+-------+-----------------+\n",
      "|summary|       total_loan|\n",
      "+-------+-----------------+\n",
      "|  count|           300000|\n",
      "|   mean|      14399.20875|\n",
      "| stddev|8709.179953286359|\n",
      "|    min|            500.0|\n",
      "|    max|          40000.0|\n",
      "+-------+-----------------+\n",
      "\n"
     ]
    }
   ],
   "source": [
    "# 统计total_loan列的情况\n",
    "df.select(df.total_loan).describe().show()"
   ]
  },
  {
   "cell_type": "code",
   "execution_count": 63,
   "id": "aa1b42da",
   "metadata": {},
   "outputs": [
    {
     "name": "stdout",
     "output_type": "stream",
     "text": [
      "(0, 1000), 2\n",
      "(1000, 2000), 4043\n",
      "(2000, 3000), 6341\n",
      "(3000, 4000), 9317\n",
      "(4000, 5000), 10071\n",
      "(5000, 6000), 16514\n",
      "(6000, 7000), 15961\n",
      "(7000, 8000), 12789\n",
      "(8000, 9000), 16384\n",
      "(9000, 10000), 10458\n",
      "(10000, 11000), 27170\n",
      "(11000, 12000), 7472\n",
      "(12000, 13000), 20513\n",
      "(13000, 14000), 5928\n",
      "(14000, 15000), 8888\n",
      "(15000, 16000), 18612\n",
      "(16000, 17000), 11277\n",
      "(17000, 18000), 4388\n",
      "(18000, 19000), 9342\n",
      "(19000, 20000), 4077\n",
      "(20000, 21000), 17612\n",
      "(21000, 22000), 5507\n",
      "(22000, 23000), 3544\n",
      "(23000, 24000), 2308\n",
      "(24000, 25000), 8660\n",
      "(25000, 26000), 8813\n",
      "(26000, 27000), 1604\n",
      "(27000, 28000), 1645\n",
      "(28000, 29000), 5203\n",
      "(29000, 30000), 1144\n",
      "(30000, 31000), 6864\n",
      "(31000, 32000), 752\n",
      "(32000, 33000), 1887\n",
      "(33000, 34000), 865\n",
      "(34000, 35000), 587\n",
      "(35000, 36000), 11427\n",
      "(36000, 37000), 364\n",
      "(37000, 38000), 59\n",
      "(38000, 39000), 85\n",
      "(39000, 40000), 30\n",
      "(40000, 41000), 1493\n"
     ]
    }
   ],
   "source": [
    "# 确定了最大区间为(40000, 41000)后，进行统计\n",
    "for i in range(0, 41):\n",
    "    low = i * 1000\n",
    "    high = low + 1000\n",
    "    print('(' + str(low) + ', ' + str(high) + '), ' + str(df.filter(df.total_loan >= low).intersect(df.filter(df.total_loan < high)).count()))"
   ]
  },
  {
   "cell_type": "code",
   "execution_count": 64,
   "id": "4e3c6cea",
   "metadata": {},
   "outputs": [
    {
     "name": "stdout",
     "output_type": "stream",
     "text": [
      "(0, 1000), 2\n",
      "(1000, 2000), 4043\n",
      "(2000, 3000), 6341\n",
      "(3000, 4000), 9317\n",
      "(4000, 5000), 10071\n",
      "(5000, 6000), 16514\n",
      "(6000, 7000), 15961\n",
      "(7000, 8000), 12789\n",
      "(8000, 9000), 16384\n",
      "(9000, 10000), 10458\n",
      "(10000, 11000), 27170\n",
      "(11000, 12000), 7472\n",
      "(12000, 13000), 20513\n",
      "(13000, 14000), 5928\n",
      "(14000, 15000), 8888\n",
      "(15000, 16000), 18612\n",
      "(16000, 17000), 11277\n",
      "(17000, 18000), 4388\n",
      "(18000, 19000), 9342\n",
      "(19000, 20000), 4077\n",
      "(20000, 21000), 17612\n",
      "(21000, 22000), 5507\n",
      "(22000, 23000), 3544\n",
      "(23000, 24000), 2308\n",
      "(24000, 25000), 8660\n",
      "(25000, 26000), 8813\n",
      "(26000, 27000), 1604\n",
      "(27000, 28000), 1645\n",
      "(28000, 29000), 5203\n",
      "(29000, 30000), 1144\n",
      "(30000, 31000), 6864\n",
      "(31000, 32000), 752\n",
      "(32000, 33000), 1887\n",
      "(33000, 34000), 865\n",
      "(34000, 35000), 587\n",
      "(35000, 36000), 11427\n",
      "(36000, 37000), 364\n",
      "(37000, 38000), 59\n",
      "(38000, 39000), 85\n",
      "(39000, 40000), 30\n",
      "(40000, 41000), 1493\n"
     ]
    }
   ],
   "source": [
    "# 另一种统计\n",
    "num = []\n",
    "for i in range(0, 41):\n",
    "    low = i * 1000\n",
    "    num_tem = df.filter(df.total_loan >= low).count()\n",
    "    num.append(num_tem)\n",
    "for i in range(0, 40):\n",
    "    low = i * 1000\n",
    "    high = low + 1000\n",
    "    print('(' + str(low) + ', ' + str(high) + '), ' + str(num[i] - num[i + 1]))\n",
    "print('(' + '40000' + ', ' + '41000' + '), ' + str(num[40]))"
   ]
  },
  {
   "cell_type": "code",
   "execution_count": null,
   "id": "150e83a9",
   "metadata": {},
   "outputs": [],
   "source": []
  }
 ],
 "metadata": {
  "kernelspec": {
   "display_name": "Python [conda env:tensorflow] *",
   "language": "python",
   "name": "conda-env-tensorflow-py"
  },
  "language_info": {
   "codemirror_mode": {
    "name": "ipython",
    "version": 3
   },
   "file_extension": ".py",
   "mimetype": "text/x-python",
   "name": "python",
   "nbconvert_exporter": "python",
   "pygments_lexer": "ipython3",
   "version": "3.9.6"
  }
 },
 "nbformat": 4,
 "nbformat_minor": 5
}
