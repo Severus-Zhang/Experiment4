{
 "cells": [
  {
   "cell_type": "code",
   "execution_count": 1,
   "id": "48aed4f1",
   "metadata": {},
   "outputs": [
    {
     "name": "stderr",
     "output_type": "stream",
     "text": [
      "C:\\Users\\DELL\\anaconda3\\envs\\tensorflow\\lib\\site-packages\\pyspark\\sql\\context.py:77: FutureWarning: Deprecated in 3.0.0. Use SparkSession.builder.getOrCreate() instead.\n",
      "  warnings.warn(\n"
     ]
    }
   ],
   "source": [
    "import pyspark\n",
    "import pandas as pd\n",
    "from pyspark.sql import functions as F\n",
    "from pyspark.sql import SQLContext\n",
    "from pyspark import SparkContext\n",
    "sc = SparkContext()\n",
    "sqlContext = SQLContext(sc)\n",
    "df = sqlContext.read.format('com.databricks.spark.csv').options(header='true', inferschema='true').load(\"train_data .csv\")"
   ]
  },
  {
   "cell_type": "code",
   "execution_count": 2,
   "id": "4c7f7c61",
   "metadata": {},
   "outputs": [],
   "source": [
    "# 选择特征\n",
    "df = df.select('total_loan', 'year_of_loan','interest', 'monthly_payment',\n",
    "               'class', 'sub_class', 'work_type', 'employer_type',\n",
    "               'industry', 'work_year', 'house_exist', 'house_loan_status',\n",
    "               'censor_status', 'marriage', 'offsprings', 'use', 'region',\n",
    "               'debt_loan_ratio', 'del_in_18month', 'scoring_low', 'scoring_high',\n",
    "               'pub_dero_bankrup', 'early_return', 'early_return_amount', \n",
    "               'early_return_amount_3mon', 'recircle_b', 'recircle_u', \n",
    "               'initial_list_status', 'policy_code', 'f0', 'f1', 'f2', 'f3', 'f4', 'f5',\n",
    "               'is_default')"
   ]
  },
  {
   "cell_type": "code",
   "execution_count": 4,
   "id": "48c3f23a",
   "metadata": {},
   "outputs": [
    {
     "name": "stdout",
     "output_type": "stream",
     "text": [
      "+----------+------------+--------+---------------+-----+---------+---------+-------------+------------------+---------+-----------+-----------------+-------------+--------+----------+---+------+---------------+--------------+-----------+------------+----------------+------------+-------------------+------------------------+----------+----------+-------------------+-----------+----+----+----+----+----+----+----------+--------------------+-----+\n",
      "|total_loan|year_of_loan|interest|monthly_payment|class|sub_class|work_type|employer_type|          industry|work_year|house_exist|house_loan_status|censor_status|marriage|offsprings|use|region|debt_loan_ratio|del_in_18month|scoring_low|scoring_high|pub_dero_bankrup|early_return|early_return_amount|early_return_amount_3mon|recircle_b|recircle_u|initial_list_status|policy_code|  f0|  f1|  f2|  f3|  f4|  f5|is_default|            features|label|\n",
      "+----------+------------+--------+---------------+-----+---------+---------+-------------+------------------+---------+-----------+-----------------+-------------+--------+----------+---+------+---------------+--------------+-----------+------------+----------------+------------+-------------------+------------------------+----------+----------+-------------------+-----------+----+----+----+----+----+----+----------+--------------------+-----+\n",
      "|     500.0|           3|    8.07|          15.69|    A|       A4|     职员|     普通企业|公共服务、社会组织| < 1 year|          1|                0|            0|       0|         0|  5|    13|           4.27|           0.0|      720.0|       724.0|            null|           0|                  0|                     0.0|       0.0|       0.0|                  1|        1.0|null|null|null|null|null|null|         0|(71,[0,1,2,3,15,3...|  0.0|\n",
      "|     900.0|           3|   10.28|          29.16|    C|       C1|     工人|     政府机构|公共服务、社会组织|  3 years|          1|                0|            0|       0|         0| 13|    21|           16.7|           0.0|      685.0|       689.0|            null|           0|                  0|                     0.0|    3084.0|      65.6|                  1|        1.0|null|null|null|null|null|null|         1|(71,[0,1,2,3,4,40...|  1.0|\n",
      "|    1000.0|           3|    5.79|          30.33|    A|       A2|     职员|     普通企业|            制造业|     null|          0|                1|            0|       1|         1|  3|     9|           5.84|           0.0|      765.0|       769.0|             0.0|           0|                  0|                     0.0|    5444.0|      19.8|                  1|        1.0|null|null|null|null|null|null|         0|(71,[0,1,2,3,21,3...|  0.0|\n",
      "|    1000.0|           3|    6.67|          30.73|    A|       A2|     职员|     普通企业|      文化和体育业| < 1 year|          0|                1|            0|       0|         0|  3|    19|           3.12|           0.0|      790.0|       794.0|             0.0|           0|                  0|                     0.0|    2027.0|       4.2|                  0|        1.0| 3.0| 0.0| 4.0|12.0| 9.0| 0.0|         0|(71,[0,1,2,3,21,3...|  0.0|\n",
      "|    1000.0|           3|    6.71|          30.75|    A|       A3|   工程师|     普通企业|公共服务、社会组织|  9 years|          0|                1|            1|       1|         0| 10|    14|          16.69|           0.0|      720.0|       724.0|             0.0|           0|                  0|                     0.0|    3922.0|      20.0|                  0|        1.0| 4.0| 0.0|29.0|12.0| 2.0| 0.0|         0|(71,[0,1,2,3,20,4...|  0.0|\n",
      "+----------+------------+--------+---------------+-----+---------+---------+-------------+------------------+---------+-----------+-----------------+-------------+--------+----------+---+------+---------------+--------------+-----------+------------+----------------+------------+-------------------+------------------------+----------+----------+-------------------+-----------+----+----+----+----+----+----+----------+--------------------+-----+\n",
      "only showing top 5 rows\n",
      "\n"
     ]
    }
   ],
   "source": [
    "from pyspark.ml.feature import RFormula\n",
    "supervised = RFormula(formula=\"is_default ~ total_loan + year_of_loan + interest + monthly_payment + sub_class + work_type + employer_type + industry+house_exist+house_loan_status+censor_status+marriage+offsprings+del_in_18month+scoring_low+scoring_high+early_return+use+region\")\n",
    "fittedRF = supervised.fit(df)\n",
    "preparedDF = fittedRF.transform(df)\n",
    "train, test = preparedDF.randomSplit([0.8, 0.2])\n",
    "train.show(5) "
   ]
  },
  {
   "cell_type": "code",
   "execution_count": 5,
   "id": "caf2e153",
   "metadata": {},
   "outputs": [
    {
     "name": "stdout",
     "output_type": "stream",
     "text": [
      "+-----+----------+\n",
      "|label|prediction|\n",
      "+-----+----------+\n",
      "|  0.0|       0.0|\n",
      "|  0.0|       0.0|\n",
      "|  1.0|       0.0|\n",
      "|  0.0|       0.0|\n",
      "|  0.0|       0.0|\n",
      "|  0.0|       0.0|\n",
      "|  0.0|       0.0|\n",
      "|  1.0|       0.0|\n",
      "|  0.0|       0.0|\n",
      "|  0.0|       0.0|\n",
      "|  1.0|       0.0|\n",
      "|  0.0|       0.0|\n",
      "|  0.0|       0.0|\n",
      "|  1.0|       0.0|\n",
      "|  0.0|       0.0|\n",
      "|  0.0|       0.0|\n",
      "|  0.0|       0.0|\n",
      "|  0.0|       0.0|\n",
      "|  0.0|       0.0|\n",
      "|  0.0|       0.0|\n",
      "|  0.0|       0.0|\n",
      "|  0.0|       0.0|\n",
      "|  0.0|       0.0|\n",
      "|  0.0|       0.0|\n",
      "|  0.0|       0.0|\n",
      "|  0.0|       0.0|\n",
      "|  1.0|       0.0|\n",
      "|  0.0|       0.0|\n",
      "|  0.0|       0.0|\n",
      "|  1.0|       0.0|\n",
      "+-----+----------+\n",
      "only showing top 30 rows\n",
      "\n"
     ]
    }
   ],
   "source": [
    "# 使用逻辑回归预测并展示结果\n",
    "from pyspark.ml.classification import LogisticRegression\n",
    "lr = LogisticRegression(labelCol=\"label\",featuresCol=\"features\")\n",
    "fittedLR = lr.fit(train)\n",
    "fittedLR.transform(test).select(\"label\", \"prediction\").show(30) "
   ]
  },
  {
   "cell_type": "code",
   "execution_count": 10,
   "id": "5c5458e0",
   "metadata": {},
   "outputs": [
    {
     "name": "stdout",
     "output_type": "stream",
     "text": [
      "4775 45168 2616 7195\n"
     ]
    }
   ],
   "source": [
    "# 保存结果，并计算各类预测情况的数量\n",
    "result = fittedLR.transform(test).select(\"label\", \"prediction\")\n",
    "TP = result.where(\"label = 1 and prediction = 1\").count()\n",
    "TN = result.where(\"label = 0 and prediction = 0\").count()\n",
    "FP = result.where(\"label = 0 and prediction = 1\").count()\n",
    "FN = result.where(\"label = 1 and prediction = 0\").count()\n",
    "print(TP, TN, FP, FN)"
   ]
  },
  {
   "cell_type": "code",
   "execution_count": 12,
   "id": "670c0a66",
   "metadata": {},
   "outputs": [
    {
     "name": "stdout",
     "output_type": "stream",
     "text": [
      "准确率为： 0.835810154968705\n",
      "精准度为： 0.6460560140711676\n",
      "召回率为： 0.3989139515455305\n",
      "f1 score =  0.4932596456794586\n"
     ]
    }
   ],
   "source": [
    "# 计算准确率、精准度、召回率和f1 score\n",
    "accuracy = (TP + TN) / (TP + TN + FP + FN)\n",
    "precision = TP / (TP + FP)\n",
    "recall = TP / (TP + FN)\n",
    "f1 = 2 * precision * recall / (precision + recall)\n",
    "print('准确率为：', accuracy)\n",
    "print('精准度为：', precision)\n",
    "print('召回率为：', recall)\n",
    "print('f1 score = ', f1)"
   ]
  },
  {
   "cell_type": "code",
   "execution_count": 18,
   "id": "b31bbea5",
   "metadata": {},
   "outputs": [
    {
     "name": "stdout",
     "output_type": "stream",
     "text": [
      "TP： 4429   TN： 45376   FP： 2408   FN： 7541\n",
      "准确率为： 0.8335006861465342\n",
      "精准度为： 0.6477987421383647\n",
      "召回率为： 0.3700083542188805\n",
      "f1 score =  0.470994842345935\n"
     ]
    }
   ],
   "source": [
    "from pyspark.ml.classification import GBTClassifier\n",
    "gbt = GBTClassifier(labelCol=\"label\", featuresCol=\"features\", maxIter=10)\n",
    "gbtModel = gbt.fit(train)\n",
    "result = gbtModel.transform(test).select(\"label\", \"prediction\")\n",
    "TP = result.where(\"label = 1 and prediction = 1\").count()\n",
    "TN = result.where(\"label = 0 and prediction = 0\").count()\n",
    "FP = result.where(\"label = 0 and prediction = 1\").count()\n",
    "FN = result.where(\"label = 1 and prediction = 0\").count()\n",
    "accuracy = (TP + TN) / (TP + TN + FP + FN)\n",
    "precision = TP / (TP + FP)\n",
    "recall = TP / (TP + FN)\n",
    "f1 = 2 * precision * recall / (precision + recall)\n",
    "print('TP：', TP, '  TN：', TN, '  FP：', FP, '  FN：', FN)\n",
    "print('准确率为：', accuracy)\n",
    "print('精准度为：', precision)\n",
    "print('召回率为：', recall)\n",
    "print('f1 score = ', f1)"
   ]
  },
  {
   "cell_type": "code",
   "execution_count": 22,
   "id": "c034a171",
   "metadata": {},
   "outputs": [],
   "source": [
    "def Logistic(train, test):\n",
    "    lr = LogisticRegression(labelCol=\"label\",featuresCol=\"features\")\n",
    "    fittedLR = lr.fit(train)\n",
    "    result = fittedLR.transform(test).select(\"label\", \"prediction\")\n",
    "    TP = result.where(\"label = 1 and prediction = 1\").count()\n",
    "    TN = result.where(\"label = 0 and prediction = 0\").count()\n",
    "    FP = result.where(\"label = 0 and prediction = 1\").count()\n",
    "    FN = result.where(\"label = 1 and prediction = 0\").count()\n",
    "    accuracy = (TP + TN) / (TP + TN + FP + FN)\n",
    "    precision = TP / (TP + FP)\n",
    "    recall = TP / (TP + FN)\n",
    "    f1 = 2 * precision * recall / (precision + recall)\n",
    "    lis = [accuracy, f1]\n",
    "    return lis\n",
    "def GBT(train, test):\n",
    "    gbt = GBTClassifier(labelCol=\"label\", featuresCol=\"features\", maxIter=10)\n",
    "    gbtModel = gbt.fit(train)\n",
    "    result = gbtModel.transform(test).select(\"label\", \"prediction\")\n",
    "    TP = result.where(\"label = 1 and prediction = 1\").count()\n",
    "    TN = result.where(\"label = 0 and prediction = 0\").count()\n",
    "    FP = result.where(\"label = 0 and prediction = 1\").count()\n",
    "    FN = result.where(\"label = 1 and prediction = 0\").count()\n",
    "    accuracy = (TP + TN) / (TP + TN + FP + FN)\n",
    "    precision = TP / (TP + FP)\n",
    "    recall = TP / (TP + FN)\n",
    "    f1 = 2 * precision * recall / (precision + recall)\n",
    "    lis = [accuracy, f1]\n",
    "    return lis"
   ]
  },
  {
   "cell_type": "code",
   "execution_count": 25,
   "id": "5766f525",
   "metadata": {},
   "outputs": [
    {
     "name": "stdout",
     "output_type": "stream",
     "text": [
      "逻辑回归的平均准确率为： 0.836561214701522 平均f1 score为： 0.49984261019117165\n",
      "GBT的平均准确率为： 0.833929930088191 平均f1 score为： 0.48826365228720814\n"
     ]
    }
   ],
   "source": [
    "# 循环十遍，每次重新随机划分，取十次的平均准确率和f1 score\n",
    "LOG_acc = 0\n",
    "LOG_f1 = 0\n",
    "GBT_acc = 0\n",
    "GBT_f1 = 0\n",
    "for i in range(10):\n",
    "    train, test = preparedDF.randomSplit([0.8, 0.2])\n",
    "    LOG_lis = Logistic(train, test)\n",
    "    GBT_lis = GBT(train, test)\n",
    "    LOG_acc += LOG_lis[0]\n",
    "    LOG_f1 += LOG_lis[1]\n",
    "    GBT_acc += GBT_lis[0]\n",
    "    GBT_f1 += GBT_lis[1]\n",
    "# 取平均数\n",
    "LOG_acc /= 10\n",
    "LOG_f1 /= 10\n",
    "GBT_acc /= 10\n",
    "GBT_f1 /= 10\n",
    "print('逻辑回归的平均准确率为：', LOG_acc, '平均f1 score为：', LOG_f1)\n",
    "print('GBT的平均准确率为：', GBT_acc, '平均f1 score为：', GBT_f1)"
   ]
  }
 ],
 "metadata": {
  "kernelspec": {
   "display_name": "Python 3 (ipykernel)",
   "language": "python",
   "name": "python3"
  },
  "language_info": {
   "codemirror_mode": {
    "name": "ipython",
    "version": 3
   },
   "file_extension": ".py",
   "mimetype": "text/x-python",
   "name": "python",
   "nbconvert_exporter": "python",
   "pygments_lexer": "ipython3",
   "version": "3.9.6"
  }
 },
 "nbformat": 4,
 "nbformat_minor": 5
}
