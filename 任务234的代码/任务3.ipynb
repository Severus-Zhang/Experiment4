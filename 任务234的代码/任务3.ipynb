{
 "cells": [
  {
   "cell_type": "code",
   "execution_count": 2,
   "id": "8bd5ac75",
   "metadata": {},
   "outputs": [],
   "source": [
    "import os\n",
    "import pyspark\n",
    "from pyspark import SparkContext, SparkConf\n",
    "from pyspark.sql import SQLContext"
   ]
  },
  {
   "cell_type": "code",
   "execution_count": 3,
   "id": "4533e7b0",
   "metadata": {},
   "outputs": [
    {
     "name": "stderr",
     "output_type": "stream",
     "text": [
      "C:\\Users\\DELL\\anaconda3\\envs\\tensorflow\\lib\\site-packages\\pyspark\\sql\\context.py:77: FutureWarning: Deprecated in 3.0.0. Use SparkSession.builder.getOrCreate() instead.\n",
      "  warnings.warn(\n"
     ]
    }
   ],
   "source": [
    "sc = SparkContext()\n",
    "sqlContext = SQLContext(sc)"
   ]
  },
  {
   "cell_type": "code",
   "execution_count": 4,
   "id": "0c2d9d23",
   "metadata": {},
   "outputs": [],
   "source": [
    "# 读取数据\n",
    "df = sqlContext.read.format('com.databricks.spark.csv').options(header='true', inferschema='true').load(\"train_data .csv\")"
   ]
  },
  {
   "cell_type": "code",
   "execution_count": 10,
   "id": "fbcc4671",
   "metadata": {},
   "outputs": [
    {
     "name": "stdout",
     "output_type": "stream",
     "text": [
      "+--------------+\n",
      "| employer_type|\n",
      "+--------------+\n",
      "|幼教与中小学校|\n",
      "|      上市企业|\n",
      "|      政府机构|\n",
      "|    世界五百强|\n",
      "|  高等教育机构|\n",
      "|      普通企业|\n",
      "+--------------+\n",
      "\n"
     ]
    }
   ],
   "source": [
    "# 获取公司类型有哪些\n",
    "firms = df.select(df.employer_type).distinct()\n",
    "firms.show()"
   ]
  },
  {
   "cell_type": "code",
   "execution_count": 11,
   "id": "db555219",
   "metadata": {},
   "outputs": [
    {
     "data": {
      "text/plain": [
       "'幼教与中小学校'"
      ]
     },
     "execution_count": 11,
     "metadata": {},
     "output_type": "execute_result"
    }
   ],
   "source": [
    "# 将其转化为Pandas，由于一共就几个，这一段可以用Pandas来做\n",
    "firms = firms.toPandas()\n",
    "firms.iloc[0, 0]"
   ]
  },
  {
   "cell_type": "code",
   "execution_count": 12,
   "id": "21c8beb3",
   "metadata": {},
   "outputs": [
    {
     "data": {
      "text/plain": [
       "['幼教与中小学校', '上市企业', '政府机构', '世界五百强', '高等教育机构', '普通企业']"
      ]
     },
     "execution_count": 12,
     "metadata": {},
     "output_type": "execute_result"
    }
   ],
   "source": [
    "# 将Pandas存入list，每一项为string\n",
    "firms_list = []\n",
    "for i in range(len(firms)):\n",
    "    firms_list.append(firms.iloc[i, 0])\n",
    "firms_list"
   ]
  },
  {
   "cell_type": "code",
   "execution_count": 27,
   "id": "7a3c04d6",
   "metadata": {},
   "outputs": [
    {
     "data": {
      "text/plain": [
       "[29995, 30038, 77446, 16112, 10106, 136303]"
      ]
     },
     "execution_count": 27,
     "metadata": {},
     "output_type": "execute_result"
    }
   ],
   "source": [
    "# 统计数量\n",
    "num = []\n",
    "for item in firms_list:\n",
    "    num_temp = df.filter(df.employer_type == item).count()\n",
    "    num.append(num_temp)\n",
    "num"
   ]
  },
  {
   "cell_type": "code",
   "execution_count": 28,
   "id": "cc284b36",
   "metadata": {},
   "outputs": [
    {
     "name": "stdout",
     "output_type": "stream",
     "text": [
      "幼教与中小学校：  0.09998\n",
      "上市企业：  0.10013\n",
      "政府机构：  0.25815\n",
      "世界五百强：  0.05371\n",
      "高等教育机构：  0.03369\n",
      "普通企业：  0.45434\n"
     ]
    }
   ],
   "source": [
    "# 计算结果，保留5位小数，打印结果\n",
    "total_num = 0\n",
    "for i in range(len(num)):\n",
    "    total_num += num[i]\n",
    "for i in range(len(num)):\n",
    "    num[i] /= total_num\n",
    "    num[i] = round(num[i], 5)\n",
    "for i in range(len(num)):\n",
    "    print(firms_list[i] + '：  ' + str(num[i]))"
   ]
  },
  {
   "cell_type": "code",
   "execution_count": 31,
   "id": "b27e9c07",
   "metadata": {},
   "outputs": [],
   "source": [
    "# 转为Pandas的DataFrame，写入文件\n",
    "import pandas as pd\n",
    "results = pd.DataFrame({'公司类型': firms_list, '类型占比': num})\n",
    "results.to_csv('公司类型占比.csv', index = None)"
   ]
  },
  {
   "cell_type": "code",
   "execution_count": 36,
   "id": "607ae5b6",
   "metadata": {},
   "outputs": [
    {
     "name": "stdout",
     "output_type": "stream",
     "text": [
      "+-------+------------------+\n",
      "|user_id|       total_money|\n",
      "+-------+------------------+\n",
      "|      0|            3846.0|\n",
      "|      1|1840.6000000000004|\n",
      "|      2|10465.600000000002|\n",
      "|      3|1758.5200000000004|\n",
      "|      4| 1056.880000000001|\n",
      "|      5| 7234.639999999999|\n",
      "|      6| 757.9200000000001|\n",
      "|      7| 4186.959999999999|\n",
      "|      8|2030.7600000000002|\n",
      "|      9|378.72000000000116|\n",
      "|     10| 4066.760000000002|\n",
      "|     11|1873.5599999999977|\n",
      "|     12| 5692.279999999999|\n",
      "|     13|1258.6800000000003|\n",
      "|     14|6833.5999999999985|\n",
      "|     15| 9248.200000000004|\n",
      "|     16| 6197.119999999995|\n",
      "|     17|1312.4400000000005|\n",
      "|     18| 5125.200000000001|\n",
      "|     19|1215.8400000000001|\n",
      "+-------+------------------+\n",
      "only showing top 20 rows\n",
      "\n"
     ]
    }
   ],
   "source": [
    "# 增加利息金额列，展示，存入文件\n",
    "interest = df.withColumn('total_money', df.year_of_loan * df.monthly_payment * 12 - df.total_loan).select('user_id','total_money')\n",
    "interest.show()\n",
    "interest = interest.toPandas()\n",
    "interest.to_csv('利息金额.csv', index = None)"
   ]
  },
  {
   "cell_type": "code",
   "execution_count": 37,
   "id": "888928f3",
   "metadata": {},
   "outputs": [
    {
     "name": "stdout",
     "output_type": "stream",
     "text": [
      "+---------+\n",
      "|work_year|\n",
      "+---------+\n",
      "|  5 years|\n",
      "|  9 years|\n",
      "|     null|\n",
      "|   1 year|\n",
      "|  2 years|\n",
      "|  7 years|\n",
      "|  8 years|\n",
      "|  4 years|\n",
      "|  6 years|\n",
      "|  3 years|\n",
      "|10+ years|\n",
      "| < 1 year|\n",
      "+---------+\n",
      "\n"
     ]
    }
   ],
   "source": [
    "# 观察工作年限\n",
    "df.select(df.work_year).distinct().show()"
   ]
  },
  {
   "cell_type": "code",
   "execution_count": 39,
   "id": "710d1f46",
   "metadata": {},
   "outputs": [
    {
     "data": {
      "text/plain": [
       "['9 years', '7 years', '8 years', '6 years', '10+ years']"
      ]
     },
     "execution_count": 39,
     "metadata": {},
     "output_type": "execute_result"
    }
   ],
   "source": [
    "# 将符合的工作年限整入一个list\n",
    "work_years = df.select(df.work_year).distinct().toPandas()\n",
    "work_list = []\n",
    "num_list = [1, 5, 6, 8, 10]\n",
    "for i in num_list:\n",
    "    work_list.append(work_years.iloc[i, 0])\n",
    "work_list"
   ]
  },
  {
   "cell_type": "code",
   "execution_count": 69,
   "id": "1700e898",
   "metadata": {},
   "outputs": [
    {
     "name": "stdout",
     "output_type": "stream",
     "text": [
      "+-------+-------------+---------+\n",
      "|user_id|censor_status|work_year|\n",
      "+-------+-------------+---------+\n",
      "|      1|            2|10+ years|\n",
      "|      2|            1|10+ years|\n",
      "|      5|            2|10+ years|\n",
      "|      6|            0|  8 years|\n",
      "|      7|            2|10+ years|\n",
      "|      9|            0|10+ years|\n",
      "|     10|            2|10+ years|\n",
      "|     15|            1|  7 years|\n",
      "|     16|            2|10+ years|\n",
      "|     17|            0|10+ years|\n",
      "|     18|            1|10+ years|\n",
      "|     20|            1|  7 years|\n",
      "|     21|            2|10+ years|\n",
      "|     25|            2|10+ years|\n",
      "|     26|            0|10+ years|\n",
      "|     30|            0|10+ years|\n",
      "|     31|            0|  6 years|\n",
      "|     33|            1|10+ years|\n",
      "|     38|            0|10+ years|\n",
      "|     39|            1|10+ years|\n",
      "+-------+-------------+---------+\n",
      "only showing top 20 rows\n",
      "\n"
     ]
    }
   ],
   "source": [
    "# 使用filter提取，并选取所需的三列\n",
    "df_new = df.filter(df.work_year.isin(work_list) == True).select('user_id', 'censor_status', 'work_year')\n",
    "df_new.show()"
   ]
  },
  {
   "cell_type": "code",
   "execution_count": 72,
   "id": "f1f5e7f0",
   "metadata": {},
   "outputs": [
    {
     "name": "stdout",
     "output_type": "stream",
     "text": [
      "+-------+-------------+---------+\n",
      "|user_id|censor_status|work_year|\n",
      "+-------+-------------+---------+\n",
      "|      1|            2|       10|\n",
      "|      2|            1|       10|\n",
      "|      5|            2|       10|\n",
      "|      6|            0|       8 |\n",
      "|      7|            2|       10|\n",
      "|      9|            0|       10|\n",
      "|     10|            2|       10|\n",
      "|     15|            1|       7 |\n",
      "|     16|            2|       10|\n",
      "|     17|            0|       10|\n",
      "|     18|            1|       10|\n",
      "|     20|            1|       7 |\n",
      "|     21|            2|       10|\n",
      "|     25|            2|       10|\n",
      "|     26|            0|       10|\n",
      "|     30|            0|       10|\n",
      "|     31|            0|       6 |\n",
      "|     33|            1|       10|\n",
      "|     38|            0|       10|\n",
      "|     39|            1|       10|\n",
      "+-------+-------------+---------+\n",
      "only showing top 20 rows\n",
      "\n"
     ]
    }
   ],
   "source": [
    "# 使用withColumn构造新列，将work_year的字符串中只保留数字部分\n",
    "df_new = df_new.withColumn('work_year', df.work_year[0:2])\n",
    "df_new.show()"
   ]
  },
  {
   "cell_type": "code",
   "execution_count": 73,
   "id": "e49e7262",
   "metadata": {},
   "outputs": [],
   "source": [
    "df_new = df_new.toPandas()\n",
    "df_new.to_csv('censor_status.csv', index = None)"
   ]
  }
 ],
 "metadata": {
  "kernelspec": {
   "display_name": "Python [conda env:tensorflow] *",
   "language": "python",
   "name": "conda-env-tensorflow-py"
  },
  "language_info": {
   "codemirror_mode": {
    "name": "ipython",
    "version": 3
   },
   "file_extension": ".py",
   "mimetype": "text/x-python",
   "name": "python",
   "nbconvert_exporter": "python",
   "pygments_lexer": "ipython3",
   "version": "3.9.6"
  }
 },
 "nbformat": 4,
 "nbformat_minor": 5
}
